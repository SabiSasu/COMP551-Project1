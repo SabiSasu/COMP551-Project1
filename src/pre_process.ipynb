{
 "cells": [
  {
   "cell_type": "code",
   "execution_count": 1,
   "metadata": {},
   "outputs": [],
   "source": [
    "import pandas as pd\n",
    "import numpy as np\n",
    "from datetime import date, timedelta"
   ]
  },
  {
   "source": [
    "# Task 1: Preprocess Data"
   ],
   "cell_type": "markdown",
   "metadata": {}
  },
  {
   "cell_type": "code",
   "execution_count": 2,
   "metadata": {},
   "outputs": [],
   "source": [
    "# download and load datasets into Pandas Dataframe\n",
    "hospital_data = pd.read_csv('https://raw.githubusercontent.com/google-research/open-covid-19-data/master/data/exports/cc_by/aggregated_cc_by.csv')\n",
    "daily_symptom_data = pd.read_csv('https://raw.githubusercontent.com/google-research/open-covid-19-data/master/data/exports/search_trends_symptoms_dataset/United%20States%20of%20America/2020_US_daily_symptoms_dataset.csv')\n",
    "\n",
    "# drop unnecessary columns\n",
    "daily_symptom_data.drop(['country_region', 'country_region_code', 'sub_region_1', 'sub_region_1_code', 'sub_region_2', 'sub_region_2_code'], axis=1, inplace=True)"
   ]
  },
  {
   "cell_type": "markdown",
   "metadata": {},
   "source": [
    "## Clean symptom data"
   ]
  },
  {
   "cell_type": "code",
   "execution_count": 3,
   "metadata": {},
   "outputs": [],
   "source": [
    "# Allow symptom data to have some missing data points\n",
    "region_sparseness_thresh = 0.9\n",
    "\n",
    "symptom_names = [s for s in daily_symptom_data.columns.values if s.startswith('symptom:')]\n",
    "num_weeks = daily_symptom_data['open_covid_region_code'].value_counts()[0]\n",
    "\n",
    "# Split by regions\n",
    "daily_symptom_data.dropna(axis='columns', how='all', inplace=True)\n",
    "\n",
    "region_symptoms = dict(tuple(daily_symptom_data.groupby('open_covid_region_code')))\n",
    "\n",
    "# Drop symptoms from regions that are incomplete\n",
    "for region, region_data in region_symptoms.items():\n",
    "    region_data.dropna(axis='columns', how='all', inplace=True)\n",
    "    region_data = region_data.loc[: , (region_data.count() >= num_weeks*region_sparseness_thresh)]\n",
    "    region_symptoms[region] = region_data.loc[: , (region_data.count() >= num_weeks*region_sparseness_thresh)]\n",
    "\n",
    "filtered_symptom_data = pd.concat(region_symptoms, ignore_index=True)\n",
    "filtered_symptom_data.dropna(axis='columns', how='any', inplace=True)\n",
    "\n",
    "region_symptoms = dict(tuple(filtered_symptom_data.groupby('open_covid_region_code')))"
   ]
  },
  {
   "cell_type": "markdown",
   "metadata": {},
   "source": [
    "## Interpolate symptom data"
   ]
  },
  {
   "cell_type": "code",
   "execution_count": 4,
   "metadata": {},
   "outputs": [],
   "source": [
    "interpolated_region_symptoms = dict()\n",
    "for region, region_data in region_symptoms.items():\n",
    "    for s in region_data.columns.values:\n",
    "        if s.startswith('symptom:'):\n",
    "            region_data[s] = region_data[s].interpolate()\n",
    "\n",
    "    interpolated_region_symptoms[region] = region_data\n",
    "\n",
    "interpolated_symptom_data = pd.concat(interpolated_region_symptoms, ignore_index=True)"
   ]
  },
  {
   "source": [
    "## Normalize symptom data"
   ],
   "cell_type": "markdown",
   "metadata": {}
  },
  {
   "cell_type": "code",
   "execution_count": 5,
   "metadata": {
    "tags": []
   },
   "outputs": [],
   "source": [
    "normalized_region_symptoms = dict()\n",
    "for region, region_data in region_symptoms.items():\n",
    "    symptom_medians = []\n",
    "\n",
    "    # calculate symptom median\n",
    "    for s in region_data.columns.values:\n",
    "        if s.startswith('symptom:'):\n",
    "            symptom_medians.append(np.nanmedian(region_data[s]))\n",
    "\n",
    "    # calculate region median\n",
    "    region_median = np.median(symptom_medians)\n",
    "\n",
    "    # normalize by region median\n",
    "    for s in region_data.columns.values:\n",
    "        if s.startswith('symptom:'):\n",
    "            region_data[s] = region_data[s].div(region_median)\n",
    "\n",
    "    normalized_region_symptoms[region] = region_data\n",
    "\n",
    "normalized_symptom_data = pd.concat(normalized_region_symptoms, ignore_index=True)\n"
   ]
  },
  {
   "source": [
    "## Convert daily symptom data to weekly symptom data"
   ],
   "cell_type": "markdown",
   "metadata": {}
  },
  {
   "cell_type": "code",
   "execution_count": 6,
   "metadata": {},
   "outputs": [],
   "source": [
    "# group symptom data by region\n",
    "\n",
    "def daily_to_weekly(df):\n",
    "\n",
    "    d = dict(tuple(df.groupby('open_covid_region_code')))\n",
    "\n",
    "    summed_daily_data = []\n",
    "    symptoms = [s for s in df.columns.values if s.startswith('symptom:')]\n",
    "\n",
    "    for region, region_data in d.items():\n",
    "\n",
    "        # get earliest start of week date\n",
    "        min_date_str = region_data['date'].min()\n",
    "        min_date = date(*map(int, min_date_str.split('-')))\n",
    "        start_week = min_date + timedelta(days=(7 - min_date.weekday()) % 7)\n",
    "        end_week = start_week + timedelta(days=7)\n",
    "\n",
    "        # convert date strings to actual date type\n",
    "        region_data['date'] = region_data['date'].map(lambda x: date(*map(int, x.split('-'))))\n",
    "\n",
    "        # select data from week\n",
    "        weekly_data = region_data[region_data['date'] >= start_week][region_data['date'] < end_week]\n",
    "        weekly_data = weekly_data[symptoms]\n",
    "\n",
    "        # sum daily symptom data for each full week in the region's data set\n",
    "        while weekly_data.shape[0] == 7:\n",
    "            col_vals = [start_week, region]\n",
    "            col_vals.extend(weekly_data.mean(skipna=False).values)\n",
    "            summed_daily_data.append(col_vals)\n",
    "\n",
    "            start_week = end_week\n",
    "            end_week = start_week + timedelta(days=7)\n",
    "            weekly_data = region_data[region_data['date'] >= start_week][region_data['date'] < end_week]\n",
    "            weekly_data = weekly_data[symptoms]\n",
    "\n",
    "    return pd.DataFrame(data=summed_daily_data, columns=df.columns.values)\n",
    "\n",
    "symptoms_data = daily_to_weekly(normalized_symptom_data)\n",
    "unscaled_symptoms_data = daily_to_weekly(interpolated_symptom_data)"
   ]
  },
  {
   "cell_type": "markdown",
   "metadata": {},
   "source": [
    "## Clean hospital data"
   ]
  },
  {
   "cell_type": "code",
   "execution_count": 7,
   "metadata": {},
   "outputs": [],
   "source": [
    "# drop non USA regions\n",
    "hospital_data = hospital_data[hospital_data['open_covid_region_code'].str.contains('US-')]\n",
    "\n",
    "# drop irrelavent data\n",
    "hospital_data = hospital_data.filter(['open_covid_region_code', 'date', 'hospitalized_new'])\n",
    "\n",
    "# aggregate daily to weekly\n",
    "d = dict(tuple(hospital_data.groupby('open_covid_region_code')))\n",
    "\n",
    "aggregated_data = []\n",
    "min_start_date = date(*map(int, hospital_data['date'].min().split('-')))\n",
    "\n",
    "for region, region_data in d.items():\n",
    "\n",
    "    # skip if total hospitalization data is zero\n",
    "    if region_data['hospitalized_new'].sum() == 0:\n",
    "        continue\n",
    "\n",
    "    # get earliest start of week date\n",
    "    min_date_str = region_data['date'].min()\n",
    "    min_date = date(*map(int, min_date_str.split('-')))\n",
    "    start_week = min_date + timedelta(days=(7 - min_date.weekday()) % 7)\n",
    "    end_week = start_week + timedelta(days=7)\n",
    "\n",
    "    # Set common start date\n",
    "    min_start_date = max(min_start_date, start_week)\n",
    "\n",
    "    # convert date strings to actual date type\n",
    "    region_data['date'] = region_data['date'].map(lambda x: date(*map(int, x.split('-'))))\n",
    "\n",
    "    # select data from week\n",
    "    weekly_data = region_data[region_data['date'] >= start_week][region_data['date'] < end_week]\n",
    "\n",
    "    # sum hospital for each full week in the region's data set\n",
    "    while weekly_data.shape[0] == 7:\n",
    "        aggregated_data.append([region, start_week, weekly_data['hospitalized_new'].sum()])\n",
    "\n",
    "        start_week = end_week\n",
    "        end_week = start_week + timedelta(days=7)\n",
    "        weekly_data = region_data[region_data['date'] >= start_week][region_data['date'] < end_week]\n",
    "\n",
    "filtered_hospital_data = pd.DataFrame(data=aggregated_data, columns=['open_covid_region_code', 'date', 'hospitalized_new'])\n",
    "\n",
    "# Drop all rows before common start date\n",
    "filtered_hospital_data = filtered_hospital_data[filtered_hospital_data['date'] >= min_start_date]"
   ]
  },
  {
   "cell_type": "markdown",
   "metadata": {},
   "source": [
    "## Join symptom and hospital data"
   ]
  },
  {
   "cell_type": "code",
   "execution_count": 8,
   "metadata": {},
   "outputs": [],
   "source": [
    "unscaled_symptoms_data.to_csv('../data/temp.csv')\n",
    "merged_data = pd.merge(symptoms_data, filtered_hospital_data, on=['open_covid_region_code', 'date'])\n",
    "unscaled_merged_data = pd.merge(unscaled_symptoms_data, filtered_hospital_data, on=['open_covid_region_code', 'date'])\n",
    "\n",
    "# Remove outliers for supervised learning\n",
    "from scipy import stats\n",
    "merged_data = merged_data.loc[np.abs(stats.zscore(merged_data['hospitalized_new'])) < 3]\n",
    "\n",
    "merged_data.to_csv('../data/merged_data.csv')\n",
    "unscaled_merged_data.to_csv('../data/unscaled_merged_data.csv')"
   ]
  },
  {
   "cell_type": "code",
   "execution_count": null,
   "metadata": {},
   "outputs": [],
   "source": []
  }
 ],
 "metadata": {
  "kernelspec": {
   "name": "Python 3.6.2 64-bit",
   "display_name": "Python 3.6.2 64-bit",
   "metadata": {
    "interpreter": {
     "hash": "05ece30799c2dcdac4c13b3af20453da19de8df0d9a1de52cff7e0b6e1e82bdd"
    }
   }
  },
  "language_info": {
   "codemirror_mode": {
    "name": "ipython",
    "version": 3
   },
   "file_extension": ".py",
   "mimetype": "text/x-python",
   "name": "python",
   "nbconvert_exporter": "python",
   "pygments_lexer": "ipython3",
   "version": "3.6.2-final"
  }
 },
 "nbformat": 4,
 "nbformat_minor": 4
}